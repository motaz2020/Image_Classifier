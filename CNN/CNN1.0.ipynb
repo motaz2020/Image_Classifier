{
  "cells": [
    {
      "cell_type": "markdown",
      "metadata": {
        "id": "4dS4qgLoYAOh"
      },
      "source": [
        "# **Over View**"
      ]
    },
    {
      "cell_type": "markdown",
      "metadata": {
        "id": "LhB6gi_IYfee"
      },
      "source": [
        "It's a major task for Machine Vision course 2022"
      ]
    },
    {
      "cell_type": "markdown",
      "metadata": {
        "id": "Up9_KBciNCip"
      },
      "source": [
        "second milestone : CNN classifier:\n",
        "Use TensorFlow to build a CNN network and train it to classify images."
      ]
    },
    {
      "cell_type": "markdown",
      "metadata": {
        "id": "ZZSEolW4us4H"
      },
      "source": [
        "# **Import Libraries**"
      ]
    },
    {
      "cell_type": "code",
      "execution_count": null,
      "metadata": {
        "id": "R5fGkSoKNvqh"
      },
      "outputs": [],
      "source": [
        "# Importing required libraries\n",
        "import keras\n",
        "from keras.datasets import cifar100\n",
        "import matplotlib.pyplot as plt\n",
        "import numpy as np\n",
        "from keras.models import Sequential \n",
        "from keras.layers import Dense, Input, Dropout, Conv2D, Flatten, MaxPooling2D\n",
        "from keras.callbacks import EarlyStopping\n",
        "from keras.utils import np_utils\n",
        "from sklearn.metrics import accuracy_score, confusion_matrix, classification_report\n",
        "from keras.layers import Conv2D, MaxPooling2D, Flatten, Dense, Dropout\n",
        "from keras.layers import Dropout\n",
        "from keras.layers import GlobalAveragePooling2D\n",
        "\n"
      ]
    },
    {
      "cell_type": "code",
      "execution_count": null,
      "metadata": {
        "colab": {
          "base_uri": "https://localhost:8080/",
          "height": 370
        },
        "id": "pkqcYveyN6Nh",
        "outputId": "923455fd-6dcd-437c-ba8c-b8e6e50126e7"
      },
      "outputs": [
        {
          "name": "stdout",
          "output_type": "stream",
          "text": [
            "Downloading data from https://www.cs.toronto.edu/~kriz/cifar-100-python.tar.gz\n",
            "169001437/169001437 [==============================] - 11s 0us/step\n",
            "Shape of x_train: (50000, 32, 32, 3)\n",
            "Shape of y_train: (50000, 1)\n",
            "Shape of x_test: (10000, 32, 32, 3)\n",
            "Shape of y_test: (10000, 1)\n"
          ]
        },
        {
          "data": {
            "image/png": "[encoded data removed]",
            "text/plain": [
              "<Figure size 432x288 with 1 Axes>"
            ]
          },
          "metadata": {
            "needs_background": "light"
          },
          "output_type": "display_data"
        }
      ],
      "source": [
        "# Loading the CIFAR-100 dataset\n",
        "(x_train, y_train), (x_test, y_test) = cifar100.load_data()\n",
        "\n",
        "# Plotting an image from the training set\n",
        "plt.imshow(x_train[5], cmap='gray')\n",
        "\n",
        "# Printing the shapes of the training and test sets\n",
        "print(\"Shape of x_train:\", x_train.shape)\n",
        "print(\"Shape of y_train:\", y_train.shape)\n",
        "print(\"Shape of x_test:\", x_test.shape)\n",
        "print(\"Shape of y_test:\", y_test.shape)"
      ]
    },
    {
      "cell_type": "code",
      "execution_count": null,
      "metadata": {
        "colab": {
          "base_uri": "https://localhost:8080/",
          "height": 283
        },
        "id": "85f-ltdAN9wj",
        "outputId": "662efc75-610e-4264-91cd-7e7d6bb62e62"
      },
      "outputs": [
        {
          "name": "stdout",
          "output_type": "stream",
          "text": [
            "Label of selected image: [51]\n"
          ]
        },
        {
          "data": {
            "image/png": "[encoded data removed]",
            "text/plain": [
              "<Figure size 432x288 with 1 Axes>"
            ]
          },
          "metadata": {
            "needs_background": "light"
          },
          "output_type": "display_data"
        }
      ],
      "source": [
        "# Visualizing an image from the training set\n",
        "plt.imshow(x_train[586], cmap='gray')\n",
        "\n",
        "# Printing the label of the selected image\n",
        "print(\"Label of selected image:\", y_train[586])"
      ]
    },
    {
      "cell_type": "code",
      "execution_count": null,
      "metadata": {
        "id": "F7Qvhu9bOZkq"
      },
      "outputs": [],
      "source": [
        "# One Hot Encoding the target variables\n",
        "y_train_OHC = keras.utils.np_utils.to_categorical(y_train, 100)\n",
        "y_test_OHC = keras.utils.np_utils.to_categorical(y_test, 100)"
      ]
    },
    {
      "cell_type": "markdown",
      "metadata": {
        "id": "BRI2W7pVOggG"
      },
      "source": [
        "**The last element of data preprocessing is their normalization.**"
      ]
    },
    {
      "cell_type": "code",
      "execution_count": null,
      "metadata": {
        "id": "c12bAn81OdMC"
      },
      "outputs": [],
      "source": [
        "# Normalizing the input data\n",
        "x_train_final = x_train / 255\n",
        "x_test_final = x_test / 255"
      ]
    },
    {
      "cell_type": "markdown",
      "metadata": {
        "id": "jAdhLwHcOqaq"
      },
      "source": [
        "# CNN"
      ]
    },
    {
      "cell_type": "markdown",
      "metadata": {
        "id": "R7YRGPHCG7bO"
      },
      "source": [
        "# M1"
      ]
    },
    {
      "cell_type": "markdown",
      "metadata": {
        "id": "w3rqV6RLHRGL"
      },
      "source": [
        "The model starts with a 2D convolutional layer (Conv2D) with 32 filters, a kernel size of (7, 7), strides of (2, 2), and \"same\" padding. The activation function used is ReLU (rectified linear unit). The input_shape argument specifies that the input data is 32x32 pixels with 3 channels (RGB)"
      ]
    },
    {
      "cell_type": "markdown",
      "metadata": {
        "id": "G9R_Bk_mHZbk"
      },
      "source": [
        "The model then goes through a series of other Conv2D layers, each with more filters and kernel size with (5, 5) and (3, 3) with same strides and padding."
      ]
    },
    {
      "cell_type": "markdown",
      "metadata": {
        "id": "ffejAZluHk39"
      },
      "source": [
        "Between these convolutional layers, there are MaxPooling2D layers with pool size of (3,3) and strides of (2,2) that reduces the spatial dimensions of the output from the convolutional layer by taking the maximum value of each window of (3,3) pixels."
      ]
    },
    {
      "cell_type": "markdown",
      "metadata": {
        "id": "wtqVy9ffHrAE"
      },
      "source": [
        "The feature maps from these layers are then flattened, and passed through a series of fully connected layers with 512, 128 and 64 neurons, respectively. The final layer is a fully connected layer with 100 neurons and 'softmax' activation function."
      ]
    },
    {
      "cell_type": "markdown",
      "metadata": {
        "id": "PdW9QriTHzMe"
      },
      "source": [
        "The parameters are:\n",
        "\n",
        "x: The normalized training data.\n",
        "y: The one-hot encoded labels for the training data.\n",
        "\n",
        "shuffle: This parameter is set to True, which shuffles the data before each epoch.\n",
        "\n",
        "epochs: The number of times the model will cycle through the data.\n",
        "\n",
        "batch_size: The number of samples per gradient update.\n",
        "\n",
        "validation_data: The data on which to evaluate the loss and any model metrics at the end of each epoch. The model will not be trained on this data.\n",
        "\n",
        "callbacks : is an EarlyStopping callbacks which stop the training if the performance is not improving over 'patience' number of epochs."
      ]
    },
    {
      "cell_type": "code",
      "execution_count": null,
      "metadata": {
        "colab": {
          "base_uri": "https://localhost:8080/"
        },
        "id": "spGeD-tEOm7a",
        "outputId": "6fe674bc-465d-4a93-85c7-c2a45e229636"
      },
      "outputs": [
        {
          "name": "stdout",
          "output_type": "stream",
          "text": [
            "Model: \"sequential_8\"\n",
            "_________________________________________________________________\n",
            " Layer (type)                Output Shape              Param #   \n",
            "=================================================================\n",
            " conv2d_24 (Conv2D)          (None, 16, 16, 32)        896       \n",
            "                                                                 \n",
            " max_pooling2d_16 (MaxPoolin  (None, 8, 8, 32)         0         \n",
            " g2D)                                                            \n",
            "                                                                 \n",
            " conv2d_25 (Conv2D)          (None, 8, 8, 64)          18496     \n",
            "                                                                 \n",
            " conv2d_26 (Conv2D)          (None, 8, 8, 64)          16448     \n",
            "                                                                 \n",
            " max_pooling2d_17 (MaxPoolin  (None, 4, 4, 64)         0         \n",
            " g2D)                                                            \n",
            "                                                                 \n",
            " conv2d_27 (Conv2D)          (None, 4, 4, 128)         73856     \n",
            "                                                                 \n",
            " conv2d_28 (Conv2D)          (None, 4, 4, 128)         147584    \n",
            "                                                                 \n",
            " max_pooling2d_18 (MaxPoolin  (None, 2, 2, 128)        0         \n",
            " g2D)                                                            \n",
            "                                                                 \n",
            " conv2d_29 (Conv2D)          (None, 2, 2, 256)         295168    \n",
            "                                                                 \n",
            " max_pooling2d_19 (MaxPoolin  (None, 1, 1, 256)        0         \n",
            " g2D)                                                            \n",
            "                                                                 \n",
            " flatten (Flatten)           (None, 256)               0         \n",
            "                                                                 \n",
            " dense_3 (Dense)             (None, 512)               131584    \n",
            "                                                                 \n",
            " dense_4 (Dense)             (None, 128)               65664     \n",
            "                                                                 \n",
            " dense_5 (Dense)             (None, 64)                8256      \n",
            "                                                                 \n",
            " dense_6 (Dense)             (None, 100)               6500      \n",
            "                                                                 \n",
            "=================================================================\n",
            "Total params: 764,452\n",
            "Trainable params: 764,452\n",
            "Non-trainable params: 0\n",
            "_________________________________________________________________\n"
          ]
        }
      ],
      "source": [
        "# Initializing the model 1\n",
        "model = Sequential()\n",
        "\n",
        "# Adding the first convolutional layer\n",
        "model.add(Conv2D(32, kernel_size=(3, 3), strides=(2, 2), padding='same', activation='relu', input_shape=(32, 32, 3)))\n",
        "# Adding the first max pooling layer\n",
        "model.add(MaxPooling2D(pool_size=(2, 2), strides=(2, 2)))\n",
        "\n",
        "# Adding the second convolutional layer\n",
        "model.add(Conv2D(64, (3, 3), strides=(1, 1), padding='same', activation='relu'))\n",
        "# Adding the third convolutional layer\n",
        "model.add(Conv2D(64, (2, 2), strides=(1, 1), padding='same', activation='relu'))\n",
        "# Adding the second max pooling layer\n",
        "model.add(MaxPooling2D(pool_size=(2, 2), strides=(2, 2)))\n",
        "\n",
        "# Adding the fourth convolutional layer\n",
        "model.add(Conv2D(128, (3, 3), strides=(1, 1), padding='same', activation='relu'))\n",
        "# Adding the fifth convolutional layer\n",
        "model.add(Conv2D(128, (3, 3), strides=(1, 1), padding='same', activation='relu'))\n",
        "# Adding the third max pooling layer\n",
        "model.add(MaxPooling2D(pool_size=(2, 2), strides=(2, 2)))\n",
        "\n",
        "# Adding the sixth convolutional layer\n",
        "model.add(Conv2D(256, (3, 3), strides=(1, 1), padding='same', activation='relu'))\n",
        "# Adding the fourth max pooling layer\n",
        "model.add(MaxPooling2D(pool_size=(2, 2), strides=(2, 2), padding='same'))\n",
        "\n",
        "# Flattening the output from the convolutional layers\n",
        "model.add(Flatten())\n",
        "\n",
        "# Adding fully connected layers\n",
        "model.add(Dense(512, activation='relu'))\n",
        "model.add(Dense(128, activation='relu'))\n",
        "model.add(Dense(64, activation='relu'))\n",
        "\n",
        "# Adding the final output layer\n",
        "model.add(Dense(100, activation='softmax'))\n",
        "\n",
        "# Model summary\n",
        "model.summary()"
      ]
    },
    {
      "cell_type": "code",
      "execution_count": null,
      "metadata": {
        "id": "EdHoJLEFSIrh"
      },
      "outputs": [],
      "source": [
        "# Compiling the model\n",
        "model.compile(\n",
        "    optimizer='adam', \n",
        "    loss='categorical_crossentropy', \n",
        "    metrics=['accuracy']\n",
        ")\n"
      ]
    },
    {
      "cell_type": "code",
      "execution_count": null,
      "metadata": {
        "colab": {
          "base_uri": "https://localhost:8080/"
        },
        "id": "GdctDNzuSKr5",
        "outputId": "396882d8-e04c-498a-b206-52f511309dad"
      },
      "outputs": [
        {
          "name": "stdout",
          "output_type": "stream",
          "text": [
            "Epoch 1/30\n",
            "1563/1563 [==============================] - 145s 92ms/step - loss: 4.6059 - accuracy: 0.0083 - val_loss: 4.6052 - val_accuracy: 0.0100\n",
            "Epoch 2/30\n",
            "1563/1563 [==============================] - 141s 90ms/step - loss: 4.6059 - accuracy: 0.0092 - val_loss: 4.6052 - val_accuracy: 0.0100\n",
            "Epoch 3/30\n",
            "1563/1563 [==============================] - 139s 89ms/step - loss: 4.6059 - accuracy: 0.0084 - val_loss: 4.6052 - val_accuracy: 0.0100\n",
            "Epoch 4/30\n",
            "1563/1563 [==============================] - 139s 89ms/step - loss: 4.6059 - accuracy: 0.0091 - val_loss: 4.6052 - val_accuracy: 0.0100\n",
            "Epoch 5/30\n",
            "1563/1563 [==============================] - 139s 89ms/step - loss: 4.6059 - accuracy: 0.0091 - val_loss: 4.6052 - val_accuracy: 0.0100\n",
            "Epoch 6/30\n",
            "1563/1563 [==============================] - 138s 89ms/step - loss: 4.6059 - accuracy: 0.0083 - val_loss: 4.6052 - val_accuracy: 0.0100\n",
            "Epoch 7/30\n",
            "1563/1563 [==============================] - 139s 89ms/step - loss: 4.6059 - accuracy: 0.0083 - val_loss: 4.6052 - val_accuracy: 0.0100\n",
            "Epoch 8/30\n",
            "1563/1563 [==============================] - 140s 89ms/step - loss: 4.6060 - accuracy: 0.0086 - val_loss: 4.6052 - val_accuracy: 0.0100\n",
            "Epoch 9/30\n",
            "1563/1563 [==============================] - 138s 88ms/step - loss: 4.6059 - accuracy: 0.0089 - val_loss: 4.6052 - val_accuracy: 0.0100\n"
          ]
        }
      ],
      "source": [
        "# Training the model\n",
        "result = model.fit(\n",
        "    x=x_train_final, y=y_train_OHC, \n",
        "    shuffle=True, epochs=30, batch_size=32, \n",
        "    validation_data=(x_test_final, y_test_OHC),\n",
        "    callbacks=[\n",
        "        EarlyStopping(monitor='val_accuracy', patience=8)\n",
        "    ]\n",
        ")"
      ]
    },
    {
      "cell_type": "code",
      "execution_count": null,
      "metadata": {
        "colab": {
          "base_uri": "https://localhost:8080/"
        },
        "id": "B-NSgryUjKzY",
        "outputId": "e0038b3e-b4fe-43a0-da04-11a9548679a6"
      },
      "outputs": [
        {
          "name": "stdout",
          "output_type": "stream",
          "text": [
            "313/313 [==============================] - 5s 17ms/step\n",
            "Predictions shape:  (10000, 100)\n"
          ]
        }
      ],
      "source": [
        "predictions = model.predict(x_test_final)\n",
        "print(\"Predictions shape: \", predictions.shape)\n"
      ]
    },
    {
      "cell_type": "code",
      "execution_count": null,
      "metadata": {
        "colab": {
          "base_uri": "https://localhost:8080/"
        },
        "id": "9KXsNIUvkIj2",
        "outputId": "16f5ffe5-4616-4714-f1b0-cdc2cecc00fb"
      },
      "outputs": [
        {
          "name": "stdout",
          "output_type": "stream",
          "text": [
            "313/313 [==============================] - 5s 17ms/step\n"
          ]
        }
      ],
      "source": [
        "predictions = model.predict(x_test_final)\n",
        "predicted_labels = np.argmax(predictions, axis=1)\n"
      ]
    },
    {
      "cell_type": "markdown",
      "metadata": {
        "id": "CVw2CCixkX20"
      },
      "source": [
        "# Results (the performance metrics of each classifier (TP, TN, FP, FN) M1"
      ]
    },
    {
      "cell_type": "code",
      "execution_count": null,
      "metadata": {
        "colab": {
          "base_uri": "https://localhost:8080/"
        },
        "id": "uSvO-Z69jsSi",
        "outputId": "596a1dcb-ac79-46e9-da47-d92ecf5541c6"
      },
      "outputs": [
        {
          "name": "stdout",
          "output_type": "stream",
          "text": [
            "313/313 [==============================] - 5s 17ms/step\n",
            "Confusion Matrix: \n",
            " [[0 0 0 ... 0 0 0]\n",
            " [0 0 0 ... 0 0 0]\n",
            " [0 0 0 ... 0 0 0]\n",
            " ...\n",
            " [0 0 0 ... 0 0 0]\n",
            " [0 0 0 ... 0 0 0]\n",
            " [0 0 0 ... 0 0 0]]\n",
            "\n",
            "Classification Report: \n",
            "               precision    recall  f1-score   support\n",
            "\n",
            "           0       0.00      0.00      0.00       100\n",
            "           1       0.00      0.00      0.00       100\n",
            "           2       0.00      0.00      0.00       100\n",
            "           3       0.00      0.00      0.00       100\n",
            "           4       0.00      0.00      0.00       100\n",
            "           5       0.00      0.00      0.00       100\n",
            "           6       0.00      0.00      0.00       100\n",
            "           7       0.00      0.00      0.00       100\n",
            "           8       0.00      0.00      0.00       100\n",
            "           9       0.00      0.00      0.00       100\n",
            "          10       0.00      0.00      0.00       100\n",
            "          11       0.00      0.00      0.00       100\n",
            "          12       0.00      0.00      0.00       100\n",
            "          13       0.00      0.00      0.00       100\n",
            "          14       0.00      0.00      0.00       100\n",
            "          15       0.00      0.00      0.00       100\n",
            "          16       0.00      0.00      0.00       100\n",
            "          17       0.00      0.00      0.00       100\n",
            "          18       0.00      0.00      0.00       100\n",
            "          19       0.00      0.00      0.00       100\n",
            "          20       0.00      0.00      0.00       100\n",
            "          21       0.00      0.00      0.00       100\n",
            "          22       0.00      0.00      0.00       100\n",
            "          23       0.00      0.00      0.00       100\n",
            "          24       0.00      0.00      0.00       100\n",
            "          25       0.00      0.00      0.00       100\n",
            "          26       0.00      0.00      0.00       100\n",
            "          27       0.00      0.00      0.00       100\n",
            "          28       0.00      0.00      0.00       100\n",
            "          29       0.00      0.00      0.00       100\n",
            "          30       0.00      0.00      0.00       100\n",
            "          31       0.00      0.00      0.00       100\n",
            "          32       0.00      0.00      0.00       100\n",
            "          33       0.00      0.00      0.00       100\n",
            "          34       0.00      0.00      0.00       100\n",
            "          35       0.00      0.00      0.00       100\n",
            "          36       0.00      0.00      0.00       100\n",
            "          37       0.00      0.00      0.00       100\n",
            "          38       0.00      0.00      0.00       100\n",
            "          39       0.00      0.00      0.00       100\n",
            "          40       0.00      0.00      0.00       100\n",
            "          41       0.00      0.00      0.00       100\n",
            "          42       0.00      0.00      0.00       100\n",
            "          43       0.00      0.00      0.00       100\n",
            "          44       0.00      0.00      0.00       100\n",
            "          45       0.00      0.00      0.00       100\n",
            "          46       0.00      0.00      0.00       100\n",
            "          47       0.00      0.00      0.00       100\n",
            "          48       0.00      0.00      0.00       100\n",
            "          49       0.00      0.00      0.00       100\n",
            "          50       0.00      0.00      0.00       100\n",
            "          51       0.00      0.00      0.00       100\n",
            "          52       0.00      0.00      0.00       100\n",
            "          53       0.00      0.00      0.00       100\n",
            "          54       0.00      0.00      0.00       100\n",
            "          55       0.00      0.00      0.00       100\n",
            "          56       0.00      0.00      0.00       100\n",
            "          57       0.00      0.00      0.00       100\n",
            "          58       0.00      0.00      0.00       100\n",
            "          59       0.00      0.00      0.00       100\n",
            "          60       0.00      0.00      0.00       100\n",
            "          61       0.00      0.00      0.00       100\n",
            "          62       0.00      0.00      0.00       100\n",
            "          63       0.00      0.00      0.00       100\n",
            "          64       0.00      0.00      0.00       100\n",
            "          65       0.00      0.00      0.00       100\n",
            "          66       0.00      0.00      0.00       100\n",
            "          67       0.00      0.00      0.00       100\n",
            "          68       0.00      0.00      0.00       100\n",
            "          69       0.00      0.00      0.00       100\n",
            "          70       0.00      0.00      0.00       100\n",
            "          71       0.00      0.00      0.00       100\n",
            "          72       0.00      0.00      0.00       100\n",
            "          73       0.00      0.00      0.00       100\n",
            "          74       0.00      0.00      0.00       100\n",
            "          75       0.00      0.00      0.00       100\n",
            "          76       0.00      0.00      0.00       100\n",
            "          77       0.00      0.00      0.00       100\n",
            "          78       0.00      0.00      0.00       100\n",
            "          79       0.00      0.00      0.00       100\n",
            "          80       0.00      0.00      0.00       100\n",
            "          81       0.00      0.00      0.00       100\n",
            "          82       0.00      0.00      0.00       100\n",
            "          83       0.00      0.00      0.00       100\n",
            "          84       0.00      0.00      0.00       100\n",
            "          85       0.00      0.00      0.00       100\n",
            "          86       0.00      0.00      0.00       100\n",
            "          87       0.00      0.00      0.00       100\n",
            "          88       0.00      0.00      0.00       100\n",
            "          89       0.00      0.00      0.00       100\n",
            "          90       0.00      0.00      0.00       100\n",
            "          91       0.00      0.00      0.00       100\n",
            "          92       0.00      0.00      0.00       100\n",
            "          93       0.01      1.00      0.02       100\n",
            "          94       0.00      0.00      0.00       100\n",
            "          95       0.00      0.00      0.00       100\n",
            "          96       0.00      0.00      0.00       100\n",
            "          97       0.00      0.00      0.00       100\n",
            "          98       0.00      0.00      0.00       100\n",
            "          99       0.00      0.00      0.00       100\n",
            "\n",
            "    accuracy                           0.01     10000\n",
            "   macro avg       0.00      0.01      0.00     10000\n",
            "weighted avg       0.00      0.01      0.00     10000\n",
            "\n",
            "Accuracy: 1.00%\n"
          ]
        },
        {
          "name": "stderr",
          "output_type": "stream",
          "text": [
            "/usr/local/lib/python3.8/dist-packages/sklearn/metrics/_classification.py:1318: UndefinedMetricWarning: Precision and F-score are ill-defined and being set to 0.0 in labels with no predicted samples. Use `zero_division` parameter to control this behavior.\n",
            "  _warn_prf(average, modifier, msg_start, len(result))\n",
            "/usr/local/lib/python3.8/dist-packages/sklearn/metrics/_classification.py:1318: UndefinedMetricWarning: Precision and F-score are ill-defined and being set to 0.0 in labels with no predicted samples. Use `zero_division` parameter to control this behavior.\n",
            "  _warn_prf(average, modifier, msg_start, len(result))\n",
            "/usr/local/lib/python3.8/dist-packages/sklearn/metrics/_classification.py:1318: UndefinedMetricWarning: Precision and F-score are ill-defined and being set to 0.0 in labels with no predicted samples. Use `zero_division` parameter to control this behavior.\n",
            "  _warn_prf(average, modifier, msg_start, len(result))\n"
          ]
        }
      ],
      "source": [
        "predictions = model.predict(x_test_final)\n",
        "predicted_labels = np.argmax(predictions, axis=1)\n",
        "\n",
        "# Print evaluation metrics\n",
        "print(\"Confusion Matrix: \\n\", confusion_matrix(y_test, predicted_labels))\n",
        "print(\"\\nClassification Report: \\n\", classification_report(y_test, predicted_labels))\n",
        "print(\"Accuracy: {:.2f}%\".format(accuracy_score(y_test, predicted_labels) * 100))\n"
      ]
    },
    {
      "cell_type": "code",
      "execution_count": null,
      "metadata": {
        "colab": {
          "base_uri": "https://localhost:8080/",
          "height": 295
        },
        "id": "MKsfyLf2jsSi",
        "outputId": "544f85d4-b5bf-4e1a-c6ae-a66dff6c34c1"
      },
      "outputs": [
        {
          "data": {
            "image/png": "[encoded data removed]",
            "text/plain": [
              "<Figure size 432x288 with 1 Axes>"
            ]
          },
          "metadata": {
            "needs_background": "light"
          },
          "output_type": "display_data"
        }
      ],
      "source": [
        "plt.plot(result.history['accuracy'], label='Training')\n",
        "plt.plot(result.history['val_accuracy'], label = 'Validation')\n",
        "plt.xlabel('Epoch')\n",
        "plt.ylabel('Accuracy')\n",
        "plt.title('Accuracy over Epochs')\n",
        "plt.legend()\n",
        "plt.show()"
      ]
    },
    {
      "cell_type": "code",
      "execution_count": null,
      "metadata": {
        "colab": {
          "base_uri": "https://localhost:8080/",
          "height": 295
        },
        "id": "oCPCVNL0jsSi",
        "outputId": "75a40ada-4180-42d6-b672-a517f835a6d0"
      },
      "outputs": [
        {
          "data": {
            "image/png": "[encoded data removed]",
            "text/plain": [
              "<Figure size 432x288 with 1 Axes>"
            ]
          },
          "metadata": {
            "needs_background": "light"
          },
          "output_type": "display_data"
        }
      ],
      "source": [
        "plt.plot(result.history['loss'], label='Training')\n",
        "plt.plot(result.history['val_loss'], label = 'Validation')\n",
        "plt.xlabel('Epoch')\n",
        "plt.ylabel('Loss')\n",
        "plt.title('Loss over Epochs')\n",
        "plt.legend()\n",
        "plt.show()"
      ]
    },
    {
      "cell_type": "markdown",
      "metadata": {
        "id": "GoeA4lMAHAhV"
      },
      "source": [
        "# M2"
      ]
    },
    {
      "cell_type": "code",
      "execution_count": null,
      "metadata": {
        "id": "NaQPV9vuHIxN"
      },
      "outputs": [],
      "source": [
        "# Initializing the model\n",
        "model2 = Sequential()\n",
        "\n",
        "# Adding the first convolutional layer\n",
        "model2.add(Conv2D(32, kernel_size=(3, 3), strides=(2, 2), padding='same', activation='relu', input_shape=(32, 32, 3)))\n",
        "# Adding the first max pooling layer\n",
        "model2.add(MaxPooling2D(pool_size=(2, 2), strides=(2, 2)))\n",
        "# Adding the dropout layer to prevent overfitting\n",
        "model2.add(Dropout(0.25))\n",
        "\n",
        "# Adding the second convolutional layer\n",
        "model2.add(Conv2D(64, (3, 3), strides=(1, 1), padding='same', activation='relu'))\n",
        "# Adding the third convolutional layer\n",
        "model2.add(Conv2D(64, (2, 2), strides=(1, 1), padding='same', activation='relu'))\n",
        "# Adding the second max pooling layer\n",
        "\n",
        "model2.add(MaxPooling2D(pool_size=(2, 2), strides=(2, 2)))\n",
        "#reduce the dimensions of the output from (None, 4, 4, 100) to (None, 100) and make it compatible with your final dense layer.\n",
        "model2.add(GlobalAveragePooling2D())\n",
        "model2.add(Dense(100, activation='softmax'))\n",
        "# Adding the dropout layer to prevent overfitting\n",
        "model2.add(Dropout(0.25))"
      ]
    },
    {
      "cell_type": "code",
      "execution_count": null,
      "metadata": {
        "colab": {
          "base_uri": "https://localhost:8080/"
        },
        "id": "y_yR7g66KTUk",
        "outputId": "dab5bf53-2f77-49e1-f9ab-91a7a88ab794"
      },
      "outputs": [
        {
          "name": "stdout",
          "output_type": "stream",
          "text": [
            "(None, 100)\n"
          ]
        }
      ],
      "source": [
        "print(model2.output.shape)"
      ]
    },
    {
      "cell_type": "code",
      "execution_count": null,
      "metadata": {
        "id": "HshTEqeHOHwq"
      },
      "outputs": [],
      "source": [
        "# Compiling the model\n",
        "model2.compile(\n",
        "    optimizer='adam', \n",
        "    loss='categorical_crossentropy', \n",
        "    metrics=['accuracy']\n",
        ")\n"
      ]
    },
    {
      "cell_type": "code",
      "execution_count": null,
      "metadata": {
        "colab": {
          "base_uri": "https://localhost:8080/"
        },
        "id": "a2UFvOb4OHwr",
        "outputId": "c187623b-1393-4c0d-a9b3-aac00abe6d09"
      },
      "outputs": [
        {
          "name": "stdout",
          "output_type": "stream",
          "text": [
            "Epoch 1/40\n",
            "1563/1563 [==============================] - 49s 31ms/step - loss: 6.9714 - accuracy: 0.0527 - val_loss: 3.8937 - val_accuracy: 0.0989\n",
            "Epoch 2/40\n",
            "1563/1563 [==============================] - 48s 31ms/step - loss: 6.6637 - accuracy: 0.1061 - val_loss: 3.5894 - val_accuracy: 0.1512\n",
            "Epoch 3/40\n",
            "1563/1563 [==============================] - 45s 29ms/step - loss: 6.4767 - accuracy: 0.1414 - val_loss: 3.4021 - val_accuracy: 0.1840\n",
            "Epoch 4/40\n",
            "1563/1563 [==============================] - 46s 29ms/step - loss: 6.2937 - accuracy: 0.1659 - val_loss: 3.3235 - val_accuracy: 0.2065\n",
            "Epoch 5/40\n",
            "1563/1563 [==============================] - 44s 28ms/step - loss: 6.3012 - accuracy: 0.1811 - val_loss: 3.2192 - val_accuracy: 0.2180\n",
            "Epoch 6/40\n",
            "1563/1563 [==============================] - 44s 28ms/step - loss: 6.2368 - accuracy: 0.1954 - val_loss: 3.1040 - val_accuracy: 0.2485\n",
            "Epoch 7/40\n",
            "1563/1563 [==============================] - 45s 29ms/step - loss: 6.1402 - accuracy: 0.2064 - val_loss: 3.0489 - val_accuracy: 0.2555\n",
            "Epoch 8/40\n",
            "1563/1563 [==============================] - 42s 27ms/step - loss: 6.1047 - accuracy: 0.2182 - val_loss: 2.9759 - val_accuracy: 0.2702\n",
            "Epoch 9/40\n",
            "1563/1563 [==============================] - 42s 27ms/step - loss: 6.0889 - accuracy: 0.2264 - val_loss: 2.9330 - val_accuracy: 0.2778\n",
            "Epoch 10/40\n",
            "1563/1563 [==============================] - 43s 28ms/step - loss: 6.0307 - accuracy: 0.2324 - val_loss: 2.8889 - val_accuracy: 0.2826\n",
            "Epoch 11/40\n",
            "1563/1563 [==============================] - 44s 28ms/step - loss: 6.0185 - accuracy: 0.2408 - val_loss: 2.8282 - val_accuracy: 0.3002\n",
            "Epoch 12/40\n",
            "1563/1563 [==============================] - 43s 28ms/step - loss: 5.9596 - accuracy: 0.2472 - val_loss: 2.8169 - val_accuracy: 0.3010\n",
            "Epoch 13/40\n",
            "1563/1563 [==============================] - 43s 28ms/step - loss: 5.9534 - accuracy: 0.2516 - val_loss: 2.7791 - val_accuracy: 0.3097\n",
            "Epoch 14/40\n",
            "1563/1563 [==============================] - 46s 29ms/step - loss: 5.9087 - accuracy: 0.2585 - val_loss: 2.7532 - val_accuracy: 0.3139\n",
            "Epoch 15/40\n",
            "1563/1563 [==============================] - 44s 28ms/step - loss: 5.8830 - accuracy: 0.2619 - val_loss: 2.7279 - val_accuracy: 0.3178\n",
            "Epoch 16/40\n",
            "1563/1563 [==============================] - 44s 28ms/step - loss: 5.8940 - accuracy: 0.2644 - val_loss: 2.7141 - val_accuracy: 0.3185\n",
            "Epoch 17/40\n",
            "1563/1563 [==============================] - 45s 29ms/step - loss: 5.8182 - accuracy: 0.2678 - val_loss: 2.6945 - val_accuracy: 0.3293\n",
            "Epoch 18/40\n",
            "1563/1563 [==============================] - 44s 28ms/step - loss: 5.8464 - accuracy: 0.2723 - val_loss: 2.6794 - val_accuracy: 0.3291\n",
            "Epoch 19/40\n",
            "1563/1563 [==============================] - 44s 28ms/step - loss: 5.8316 - accuracy: 0.2765 - val_loss: 2.6482 - val_accuracy: 0.3383\n",
            "Epoch 20/40\n",
            "1563/1563 [==============================] - 43s 27ms/step - loss: 5.8233 - accuracy: 0.2807 - val_loss: 2.6597 - val_accuracy: 0.3313\n",
            "Epoch 21/40\n",
            "1563/1563 [==============================] - 44s 28ms/step - loss: 5.8133 - accuracy: 0.2851 - val_loss: 2.5899 - val_accuracy: 0.3479\n",
            "Epoch 22/40\n",
            "1563/1563 [==============================] - 43s 27ms/step - loss: 5.7841 - accuracy: 0.2876 - val_loss: 2.5877 - val_accuracy: 0.3509\n",
            "Epoch 23/40\n",
            "1563/1563 [==============================] - 43s 27ms/step - loss: 5.7704 - accuracy: 0.2894 - val_loss: 2.5630 - val_accuracy: 0.3568\n",
            "Epoch 24/40\n",
            "1563/1563 [==============================] - 44s 28ms/step - loss: 5.7430 - accuracy: 0.2938 - val_loss: 2.5888 - val_accuracy: 0.3493\n",
            "Epoch 25/40\n",
            "1563/1563 [==============================] - 42s 27ms/step - loss: 5.7197 - accuracy: 0.2970 - val_loss: 2.5701 - val_accuracy: 0.3507\n",
            "Epoch 26/40\n",
            "1563/1563 [==============================] - 43s 27ms/step - loss: 5.7377 - accuracy: 0.2985 - val_loss: 2.5686 - val_accuracy: 0.3563\n",
            "Epoch 27/40\n",
            "1563/1563 [==============================] - 42s 27ms/step - loss: 5.7633 - accuracy: 0.2982 - val_loss: 2.5561 - val_accuracy: 0.3603\n",
            "Epoch 28/40\n",
            "1563/1563 [==============================] - 44s 28ms/step - loss: 5.7020 - accuracy: 0.3022 - val_loss: 2.5347 - val_accuracy: 0.3624\n",
            "Epoch 29/40\n",
            "1563/1563 [==============================] - 43s 27ms/step - loss: 5.7399 - accuracy: 0.3014 - val_loss: 2.5487 - val_accuracy: 0.3553\n",
            "Epoch 30/40\n",
            "1563/1563 [==============================] - 43s 27ms/step - loss: 5.7597 - accuracy: 0.3010 - val_loss: 2.5024 - val_accuracy: 0.3631\n",
            "Epoch 31/40\n",
            "1563/1563 [==============================] - 45s 29ms/step - loss: 5.6788 - accuracy: 0.3067 - val_loss: 2.4943 - val_accuracy: 0.3703\n",
            "Epoch 32/40\n",
            "1563/1563 [==============================] - 44s 28ms/step - loss: 5.6171 - accuracy: 0.3099 - val_loss: 2.5228 - val_accuracy: 0.3612\n",
            "Epoch 33/40\n",
            "1563/1563 [==============================] - 44s 28ms/step - loss: 5.6550 - accuracy: 0.3114 - val_loss: 2.4910 - val_accuracy: 0.3645\n",
            "Epoch 34/40\n",
            "1563/1563 [==============================] - 44s 28ms/step - loss: 5.6111 - accuracy: 0.3111 - val_loss: 2.4915 - val_accuracy: 0.3705\n",
            "Epoch 35/40\n",
            "1563/1563 [==============================] - 45s 29ms/step - loss: 5.6378 - accuracy: 0.3133 - val_loss: 2.4941 - val_accuracy: 0.3626\n",
            "Epoch 36/40\n",
            "1563/1563 [==============================] - 43s 28ms/step - loss: 5.6166 - accuracy: 0.3155 - val_loss: 2.4739 - val_accuracy: 0.3736\n",
            "Epoch 37/40\n",
            "1563/1563 [==============================] - 43s 27ms/step - loss: 5.6579 - accuracy: 0.3168 - val_loss: 2.5116 - val_accuracy: 0.3635\n",
            "Epoch 38/40\n",
            "1563/1563 [==============================] - 45s 29ms/step - loss: 5.6155 - accuracy: 0.3174 - val_loss: 2.4694 - val_accuracy: 0.3717\n",
            "Epoch 39/40\n",
            "1563/1563 [==============================] - 44s 28ms/step - loss: 5.6460 - accuracy: 0.3190 - val_loss: 2.4752 - val_accuracy: 0.3706\n",
            "Epoch 40/40\n",
            "1563/1563 [==============================] - 44s 28ms/step - loss: 5.6232 - accuracy: 0.3184 - val_loss: 2.4610 - val_accuracy: 0.3751\n"
          ]
        }
      ],
      "source": [
        "# Training the model\n",
        "result = model2.fit(\n",
        "    x=x_train_final, y=y_train_OHC, \n",
        "    shuffle=True, epochs=40, batch_size=32, \n",
        "    validation_data=(x_test_final, y_test_OHC),\n",
        "    callbacks=[\n",
        "        EarlyStopping(monitor='val_accuracy', patience=8)\n",
        "    ]\n",
        ")"
      ]
    },
    {
      "cell_type": "code",
      "execution_count": null,
      "metadata": {
        "colab": {
          "base_uri": "https://localhost:8080/"
        },
        "id": "KApmWAjoOHwr",
        "outputId": "71d0a449-19f9-40d5-c80b-3ad979c42480"
      },
      "outputs": [
        {
          "name": "stdout",
          "output_type": "stream",
          "text": [
            "313/313 [==============================] - 3s 8ms/step\n",
            "Predictions shape:  (10000, 100)\n"
          ]
        }
      ],
      "source": [
        "predictions = model2.predict(x_test_final)\n",
        "print(\"Predictions shape: \", predictions.shape)\n"
      ]
    },
    {
      "cell_type": "markdown",
      "metadata": {
        "id": "rEDuB0tnOglF"
      },
      "source": [
        "#Results (the performance metrics of each classifier (TP, TN, FP, FN) M2\n",
        "\n"
      ]
    },
    {
      "cell_type": "code",
      "execution_count": null,
      "metadata": {
        "colab": {
          "base_uri": "https://localhost:8080/"
        },
        "id": "1U4XNsrBOqtc",
        "outputId": "fd66d670-f45f-4e8a-810b-b3ec101d2df5"
      },
      "outputs": [
        {
          "name": "stdout",
          "output_type": "stream",
          "text": [
            "313/313 [==============================] - 3s 8ms/step\n",
            "Confusion Matrix: \n",
            " [[0 0 0 ... 0 0 0]\n",
            " [0 0 0 ... 0 0 0]\n",
            " [0 0 0 ... 0 0 0]\n",
            " ...\n",
            " [0 0 0 ... 0 0 0]\n",
            " [0 0 0 ... 0 0 0]\n",
            " [0 0 0 ... 0 0 0]]\n",
            "\n",
            "Classification Report: \n",
            "               precision    recall  f1-score   support\n",
            "\n",
            "           0       0.00      0.00      0.00       100\n",
            "           1       0.00      0.00      0.00       100\n",
            "           2       0.00      0.00      0.00       100\n",
            "           3       0.01      0.66      0.02       100\n",
            "           4       0.00      0.00      0.00       100\n",
            "           5       0.00      0.00      0.00       100\n",
            "           6       0.00      0.00      0.00       100\n",
            "           7       0.00      0.00      0.00       100\n",
            "           8       0.00      0.00      0.00       100\n",
            "           9       0.00      0.00      0.00       100\n",
            "          10       0.00      0.00      0.00       100\n",
            "          11       0.00      0.00      0.00       100\n",
            "          12       0.00      0.00      0.00       100\n",
            "          13       0.00      0.00      0.00       100\n",
            "          14       0.00      0.00      0.00       100\n",
            "          15       0.00      0.00      0.00       100\n",
            "          16       0.00      0.00      0.00       100\n",
            "          17       0.03      0.73      0.06       100\n",
            "          18       0.00      0.00      0.00       100\n",
            "          19       0.00      0.00      0.00       100\n",
            "          20       0.00      0.00      0.00       100\n",
            "          21       0.00      0.00      0.00       100\n",
            "          22       0.00      0.00      0.00       100\n",
            "          23       0.00      0.00      0.00       100\n",
            "          24       0.00      0.00      0.00       100\n",
            "          25       0.00      0.00      0.00       100\n",
            "          26       0.00      0.00      0.00       100\n",
            "          27       0.00      0.00      0.00       100\n",
            "          28       0.00      0.00      0.00       100\n",
            "          29       0.00      0.00      0.00       100\n",
            "          30       0.00      0.00      0.00       100\n",
            "          31       0.00      0.00      0.00       100\n",
            "          32       0.00      0.00      0.00       100\n",
            "          33       0.00      0.00      0.00       100\n",
            "          34       0.00      0.00      0.00       100\n",
            "          35       0.00      0.00      0.00       100\n",
            "          36       0.00      0.00      0.00       100\n",
            "          37       0.00      0.00      0.00       100\n",
            "          38       0.00      0.00      0.00       100\n",
            "          39       0.00      0.00      0.00       100\n",
            "          40       0.00      0.00      0.00       100\n",
            "          41       0.00      0.00      0.00       100\n",
            "          42       0.00      0.00      0.00       100\n",
            "          43       0.00      0.00      0.00       100\n",
            "          44       0.00      0.00      0.00       100\n",
            "          45       0.00      0.00      0.00       100\n",
            "          46       0.00      0.00      0.00       100\n",
            "          47       0.00      0.00      0.00       100\n",
            "          48       0.00      0.00      0.00       100\n",
            "          49       0.00      0.00      0.00       100\n",
            "          50       0.00      0.00      0.00       100\n",
            "          51       0.00      0.00      0.00       100\n",
            "          52       0.00      0.00      0.00       100\n",
            "          53       0.00      0.00      0.00       100\n",
            "          54       0.00      0.00      0.00       100\n",
            "          55       0.00      0.00      0.00       100\n",
            "          56       0.00      0.00      0.00       100\n",
            "          57       0.00      0.00      0.00       100\n",
            "          58       0.00      0.00      0.00       100\n",
            "          59       0.00      0.00      0.00       100\n",
            "          60       0.00      0.00      0.00       100\n",
            "          61       0.00      0.00      0.00       100\n",
            "          62       0.00      0.00      0.00       100\n",
            "          63       0.00      0.00      0.00       100\n",
            "          64       0.00      0.00      0.00       100\n",
            "          65       0.00      0.00      0.00       100\n",
            "          66       0.00      0.00      0.00       100\n",
            "          67       0.00      0.00      0.00       100\n",
            "          68       0.00      0.00      0.00       100\n",
            "          69       0.00      0.00      0.00       100\n",
            "          70       0.00      0.00      0.00       100\n",
            "          71       0.00      0.00      0.00       100\n",
            "          72       0.00      0.00      0.00       100\n",
            "          73       0.00      0.00      0.00       100\n",
            "          74       0.00      0.00      0.00       100\n",
            "          75       0.00      0.00      0.00       100\n",
            "          76       0.00      0.00      0.00       100\n",
            "          77       0.00      0.00      0.00       100\n",
            "          78       0.00      0.00      0.00       100\n",
            "          79       0.00      0.00      0.00       100\n",
            "          80       0.00      0.00      0.00       100\n",
            "          81       0.00      0.00      0.00       100\n",
            "          82       0.00      0.00      0.00       100\n",
            "          83       0.03      0.34      0.05       100\n",
            "          84       0.00      0.00      0.00       100\n",
            "          85       0.00      0.00      0.00       100\n",
            "          86       0.00      0.00      0.00       100\n",
            "          87       0.00      0.00      0.00       100\n",
            "          88       0.00      0.00      0.00       100\n",
            "          89       0.00      0.00      0.00       100\n",
            "          90       0.00      0.00      0.00       100\n",
            "          91       0.00      0.00      0.00       100\n",
            "          92       0.00      0.00      0.00       100\n",
            "          93       0.00      0.00      0.00       100\n",
            "          94       0.00      0.00      0.00       100\n",
            "          95       0.00      0.00      0.00       100\n",
            "          96       0.00      0.00      0.00       100\n",
            "          97       0.00      0.00      0.00       100\n",
            "          98       0.00      0.00      0.00       100\n",
            "          99       0.00      0.00      0.00       100\n",
            "\n",
            "    accuracy                           0.02     10000\n",
            "   macro avg       0.00      0.02      0.00     10000\n",
            "weighted avg       0.00      0.02      0.00     10000\n",
            "\n",
            "Accuracy: 1.73%\n"
          ]
        },
        {
          "name": "stderr",
          "output_type": "stream",
          "text": [
            "/usr/local/lib/python3.8/dist-packages/sklearn/metrics/_classification.py:1318: UndefinedMetricWarning: Precision and F-score are ill-defined and being set to 0.0 in labels with no predicted samples. Use `zero_division` parameter to control this behavior.\n",
            "  _warn_prf(average, modifier, msg_start, len(result))\n",
            "/usr/local/lib/python3.8/dist-packages/sklearn/metrics/_classification.py:1318: UndefinedMetricWarning: Precision and F-score are ill-defined and being set to 0.0 in labels with no predicted samples. Use `zero_division` parameter to control this behavior.\n",
            "  _warn_prf(average, modifier, msg_start, len(result))\n",
            "/usr/local/lib/python3.8/dist-packages/sklearn/metrics/_classification.py:1318: UndefinedMetricWarning: Precision and F-score are ill-defined and being set to 0.0 in labels with no predicted samples. Use `zero_division` parameter to control this behavior.\n",
            "  _warn_prf(average, modifier, msg_start, len(result))\n"
          ]
        }
      ],
      "source": [
        "predictions = model2.predict(x_test_final)\n",
        "predicted_labels = np.argmax(predictions, axis=1)\n",
        "\n",
        "# Print evaluation metrics\n",
        "print(\"Confusion Matrix: \\n\", confusion_matrix(y_test, predicted_labels))\n",
        "print(\"\\nClassification Report: \\n\", classification_report(y_test, predicted_labels))\n",
        "print(\"Accuracy: {:.2f}%\".format(accuracy_score(y_test, predicted_labels) * 100))\n"
      ]
    },
    {
      "cell_type": "code",
      "execution_count": null,
      "metadata": {
        "colab": {
          "base_uri": "https://localhost:8080/",
          "height": 295
        },
        "id": "K6s_IrONOqtc",
        "outputId": "dee68ee9-baa4-46d0-8c91-68102f26068e"
      },
      "outputs": [
        {
          "data": {
            "image/png": "[encoded data removed]",
            "text/plain": [
              "<Figure size 432x288 with 1 Axes>"
            ]
          },
          "metadata": {
            "needs_background": "light"
          },
          "output_type": "display_data"
        }
      ],
      "source": [
        "plt.plot(result.history['accuracy'], label='Training')\n",
        "plt.plot(result.history['val_accuracy'], label = 'Validation')\n",
        "plt.xlabel('Epoch')\n",
        "plt.ylabel('Accuracy')\n",
        "plt.title('Accuracy over Epochs')\n",
        "plt.legend()\n",
        "plt.show()"
      ]
    },
    {
      "cell_type": "code",
      "execution_count": null,
      "metadata": {
        "colab": {
          "base_uri": "https://localhost:8080/",
          "height": 295
        },
        "id": "zWuZqDJtOqtd",
        "outputId": "eeec5de7-f5b2-43d1-e108-35965d10be6a"
      },
      "outputs": [
        {
          "data": {
            "image/png": "[encoded data removed]",
            "text/plain": [
              "<Figure size 432x288 with 1 Axes>"
            ]
          },
          "metadata": {
            "needs_background": "light"
          },
          "output_type": "display_data"
        }
      ],
      "source": [
        "plt.plot(result.history['loss'], label='Training')\n",
        "plt.plot(result.history['val_loss'], label = 'Validation')\n",
        "plt.xlabel('Epoch')\n",
        "plt.ylabel('Loss')\n",
        "plt.title('Loss over Epochs')\n",
        "plt.legend()\n",
        "plt.show()"
      ]
    }
  ],
  "metadata": {
    "colab": {
      "authorship_tag": "ABX9TyNMYgyPEycClxb9Vu/o1bZ6",
      "collapsed_sections": [
        "4dS4qgLoYAOh"
      ],
      "include_colab_link": true,
      "provenance": []
    },
    "kernelspec": {
      "display_name": "Python 3",
      "name": "python3"
    },
    "language_info": {
      "name": "python"
    }
  },
  "nbformat": 4,
  "nbformat_minor": 0
}
